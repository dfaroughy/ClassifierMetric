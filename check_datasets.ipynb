{
 "cells": [
  {
   "cell_type": "code",
   "execution_count": 10,
   "id": "a886627b",
   "metadata": {},
   "outputs": [],
   "source": [
    "import numpy as np\n",
    "from src.plots import plot_class_score\n",
    "from src.datasets import JetNetDataset\n",
    "from src.train import ModelClassifierTest\n",
    "from src.utils import GetConfigs\n",
    "from src.architectures import DeepSets as deepsets"
   ]
  },
  {
   "cell_type": "code",
   "execution_count": 11,
   "id": "b9a20693",
   "metadata": {},
   "outputs": [
    {
     "name": "stdout",
     "output_type": "stream",
     "text": [
      "#==============================================\n",
      "INFO: created directory: tops.DeepSets.test__1\n",
      "#==============================================\n",
      "INFO: saved model configs to tops.DeepSets.test__1/configs.json\n"
     ]
    },
    {
     "data": {
      "text/plain": [
       "DeepSets(\n",
       "  (criterion): CrossEntropyLoss()\n",
       "  (wrapper): _DeepSets(\n",
       "    (phi): Sequential(\n",
       "      (0): Linear(in_features=5, out_features=256, bias=True)\n",
       "      (1): LeakyReLU(negative_slope=0.01)\n",
       "      (2): Linear(in_features=256, out_features=256, bias=True)\n",
       "      (3): LeakyReLU(negative_slope=0.01)\n",
       "      (4): Linear(in_features=256, out_features=256, bias=True)\n",
       "      (5): LeakyReLU(negative_slope=0.01)\n",
       "      (6): Linear(in_features=256, out_features=256, bias=True)\n",
       "      (7): LeakyReLU(negative_slope=0.01)\n",
       "      (8): Linear(in_features=256, out_features=256, bias=True)\n",
       "      (9): LeakyReLU(negative_slope=0.01)\n",
       "    )\n",
       "    (rho): Sequential(\n",
       "      (0): Linear(in_features=512, out_features=256, bias=True)\n",
       "      (1): LeakyReLU(negative_slope=0.01)\n",
       "      (2): Linear(in_features=256, out_features=256, bias=True)\n",
       "      (3): LeakyReLU(negative_slope=0.01)\n",
       "      (4): Linear(in_features=256, out_features=256, bias=True)\n",
       "      (5): LeakyReLU(negative_slope=0.01)\n",
       "      (6): Linear(in_features=256, out_features=256, bias=True)\n",
       "      (7): LeakyReLU(negative_slope=0.01)\n",
       "      (8): Linear(in_features=256, out_features=2, bias=True)\n",
       "      (9): LeakyReLU(negative_slope=0.01)\n",
       "    )\n",
       "  )\n",
       ")"
      ]
     },
     "execution_count": 11,
     "metadata": {},
     "output_type": "execute_result"
    }
   ],
   "source": [
    "from src.utils import make_dir, save_configs\n",
    "\n",
    "from cards.models import DeepSetsConfig as config\n",
    "model = deepsets(model_config=config)\n",
    "config.workdir = make_dir('tops.DeepSets.test', sub_dirs=['results'], overwrite=False)\n",
    "save_configs(configs=[config], filename=config.workdir+'/configs.json')\n",
    "\n",
    "model"
   ]
  },
  {
   "cell_type": "code",
   "execution_count": 9,
   "id": "6b065d6b",
   "metadata": {},
   "outputs": [
    {
     "name": "stdout",
     "output_type": "stream",
     "text": [
      "INFO: loading and preprocessing data...\n",
      "\t- model 0: flow_midpoint  [fm_tops150_cond_mp200nfe.h5, etaphipt]  shape: torch.Size([266920, 150, 6])\n",
      "\t- model 1: diff_midpoint  [midpoint_100_csts.h5, etaphipt_frac]  shape: torch.Size([266920, 150, 6])\n",
      "\t- test : jetnet150  [t150.hdf5, particle_features]  shape: torch.Size([177945, 150, 6])\n",
      "INFO: building dataloaders...\n",
      "INFO: train/val/test split ratios: 0.5/0.2/0.3\n"
     ]
    }
   ],
   "source": [
    "\n",
    "datasets = JetNetDataset(dir_path = 'data/', \n",
    "                        datasets = config.datasets,\n",
    "                        class_labels = config.labels,\n",
    "                        num_jets = config.size,\n",
    "                        preprocess = config.preprocess,\n",
    "                        particle_features = config.features,\n",
    "                        )\n",
    "\n",
    "classifier = ModelClassifierTest(classifier = model, \n",
    "                                datasets = datasets,\n",
    "                                split_fractions = config.split_fractions,\n",
    "                                epochs = config.epochs, \n",
    "                                lr = config.lr, \n",
    "                                early_stopping = config.early_stopping,\n",
    "                                workdir = config.workdir,\n",
    "                                seed = config.seed)\n",
    "\n",
    "classifier.dataloader(batch_size=config.batch_size)"
   ]
  },
  {
   "cell_type": "code",
   "execution_count": 87,
   "id": "d1b2ac3f",
   "metadata": {},
   "outputs": [
    {
     "name": "stdout",
     "output_type": "stream",
     "text": [
      "tensor([-1,  1,  0,  ...,  1,  1,  0])\n"
     ]
    }
   ],
   "source": [
    "for batch in classifier.test_loader:\n",
    "    print(batch['label'])\n",
    "    B= batch['particle_features']\n",
    "    A0 = batch['particle_features'][batch['label']==0]\n",
    "    A1 = batch['particle_features'][batch['label']==1]\n",
    "    Am1 = batch['particle_features'][batch['label']==-1]\n",
    "    break"
   ]
  },
  {
   "cell_type": "code",
   "execution_count": 88,
   "id": "dfbd6ab8",
   "metadata": {},
   "outputs": [
    {
     "data": {
      "text/plain": [
       "(tensor([[-4.3662e-05, -1.5080e-04,  5.4929e-02,  2.6246e-01,  5.5359e-02],\n",
       "         [-6.2099e-05,  2.7866e-04,  3.9252e-02,  4.3923e-01,  3.9763e-02],\n",
       "         [-4.5138e-05, -1.5765e-04,  3.1545e-02,  2.7304e-01,  3.1803e-02]]),\n",
       " tensor([[3.2236e-06, 3.9527e-05, 1.6088e-01, 5.3011e-02, 1.6133e-01],\n",
       "         [4.7871e-06, 3.6979e-05, 6.1353e-02, 5.1768e-02, 6.1526e-02],\n",
       "         [1.4861e-06, 2.3629e-05, 5.6503e-02, 3.1309e-02, 5.6659e-02]]),\n",
       " tensor([[-1.8606e-06, -5.0154e-05,  8.9262e-02,  6.5672e-02,  8.9509e-02],\n",
       "         [-2.6246e-05,  1.1463e-04,  4.0552e-02,  1.8227e-01,  4.0738e-02],\n",
       "         [-1.8766e-06, -3.3554e-05,  3.5393e-02,  4.4292e-02,  3.5491e-02]]))"
      ]
     },
     "execution_count": 88,
     "metadata": {},
     "output_type": "execute_result"
    }
   ],
   "source": [
    "B[0][:3], B[1][:3], B[2][:3]"
   ]
  },
  {
   "cell_type": "code",
   "execution_count": 90,
   "id": "87d8f129",
   "metadata": {},
   "outputs": [
    {
     "data": {
      "text/plain": [
       "(tensor([[-4.3662e-05, -1.5080e-04,  5.4929e-02,  2.6246e-01,  5.5359e-02],\n",
       "         [-6.2099e-05,  2.7866e-04,  3.9252e-02,  4.3923e-01,  3.9763e-02],\n",
       "         [-4.5138e-05, -1.5765e-04,  3.1545e-02,  2.7304e-01,  3.1803e-02]]),\n",
       " tensor([[3.2236e-06, 3.9527e-05, 1.6088e-01, 5.3011e-02, 1.6133e-01],\n",
       "         [4.7871e-06, 3.6979e-05, 6.1353e-02, 5.1768e-02, 6.1526e-02],\n",
       "         [1.4861e-06, 2.3629e-05, 5.6503e-02, 3.1309e-02, 5.6659e-02]]),\n",
       " tensor([[-1.8606e-06, -5.0154e-05,  8.9262e-02,  6.5672e-02,  8.9509e-02],\n",
       "         [-2.6246e-05,  1.1463e-04,  4.0552e-02,  1.8227e-01,  4.0738e-02],\n",
       "         [-1.8766e-06, -3.3554e-05,  3.5393e-02,  4.4292e-02,  3.5491e-02]]))"
      ]
     },
     "execution_count": 90,
     "metadata": {},
     "output_type": "execute_result"
    }
   ],
   "source": [
    "Am1[0][:3], A1[0][:3], A0[0][:3], "
   ]
  },
  {
   "cell_type": "code",
   "execution_count": null,
   "id": "a68768b1",
   "metadata": {},
   "outputs": [],
   "source": []
  },
  {
   "cell_type": "code",
   "execution_count": 92,
   "id": "8f805cc3",
   "metadata": {},
   "outputs": [
    {
     "data": {
      "text/plain": [
       "DeepSets(\n",
       "  (criterion): CrossEntropyLoss()\n",
       "  (wrapper): _DeepSets(\n",
       "    (phi): Sequential(\n",
       "      (0): Linear(in_features=5, out_features=128, bias=True)\n",
       "      (1): LeakyReLU(negative_slope=0.01)\n",
       "      (2): Linear(in_features=128, out_features=128, bias=True)\n",
       "      (3): LeakyReLU(negative_slope=0.01)\n",
       "    )\n",
       "    (rho): Sequential(\n",
       "      (0): Linear(in_features=256, out_features=128, bias=True)\n",
       "      (1): LeakyReLU(negative_slope=0.01)\n",
       "      (2): Linear(in_features=128, out_features=128, bias=True)\n",
       "      (3): LeakyReLU(negative_slope=0.01)\n",
       "      (4): Linear(in_features=128, out_features=2, bias=True)\n",
       "      (5): LeakyReLU(negative_slope=0.01)\n",
       "    )\n",
       "  )\n",
       ")"
      ]
     },
     "execution_count": 92,
     "metadata": {},
     "output_type": "execute_result"
    }
   ],
   "source": [
    "path = 'tops.DeepSets.5feats.2class.1024batch.0.001lr'\n",
    "config = GetConfigs(path=path + '/configs.json')\n",
    "model = deepsets(model_config=config)\n",
    "ref_class = 'flow_midpoint'\n",
    "\n",
    "model"
   ]
  },
  {
   "cell_type": "code",
   "execution_count": 93,
   "id": "95613c65",
   "metadata": {},
   "outputs": [
    {
     "name": "stdout",
     "output_type": "stream",
     "text": [
      "INFO: loading and preprocessing data...\n",
      "\t- model 0: flow_midpoint  [fm_tops150_cond_mp200nfe.h5, etaphipt]  shape: torch.Size([266920, 150, 6])\n",
      "\t- model 1: diff_midpoint  [midpoint_100_csts.h5, etaphipt_frac]  shape: torch.Size([266920, 150, 6])\n",
      "\t- test : jetnet150  [t150.hdf5, particle_features]  shape: torch.Size([177945, 150, 6])\n",
      "INFO: building dataloaders...\n",
      "INFO: train/val/test split ratios: 0.5/0.2/0.3\n"
     ]
    }
   ],
   "source": [
    "\n",
    "datasets = JetNetDataset(dir_path = 'data/', \n",
    "                        datasets = config.datasets,\n",
    "                        class_labels = config.labels,\n",
    "                        num_jets = config.size,\n",
    "                        preprocess = config.preprocess,\n",
    "                        particle_features = config.features,\n",
    "                        )\n",
    "\n",
    "classifier = ModelClassifierTest(classifier = model, \n",
    "                                datasets = datasets,\n",
    "                                split_fractions = config.split_fractions,\n",
    "                                epochs = config.epochs, \n",
    "                                lr = config.lr, \n",
    "                                early_stopping = config.early_stopping,\n",
    "                                workdir = config.workdir,\n",
    "                                seed = config.seed)\n",
    "\n",
    "classifier.dataloader(batch_size=config.batch_size)\n"
   ]
  },
  {
   "cell_type": "code",
   "execution_count": 94,
   "id": "e7a51332",
   "metadata": {},
   "outputs": [
    {
     "data": {
      "application/vnd.jupyter.widget-view+json": {
       "model_id": "f7f39ddcdfba441ebc39d1c1b14537fd",
       "version_major": 2,
       "version_minor": 0
      },
      "text/plain": [
       "testing:   0%|          | 0/209 [00:00<?, ?it/s]"
      ]
     },
     "metadata": {},
     "output_type": "display_data"
    }
   ],
   "source": [
    "classifier.load_model(path=path + '/best_model.pth')\n",
    "classifier.test(class_labels=config.labels)"
   ]
  },
  {
   "cell_type": "code",
   "execution_count": 99,
   "id": "c61f593f",
   "metadata": {},
   "outputs": [
    {
     "data": {
      "text/plain": [
       "({'datasets': tensor([[ 9.0986e-01,  9.0139e-02,  0.0000e+00],\n",
       "          [ 9.9998e-01,  2.2712e-05, -1.0000e+00],\n",
       "          [ 9.9078e-01,  9.2219e-03, -1.0000e+00],\n",
       "          ...,\n",
       "          [ 9.9197e-01,  8.0287e-03,  1.0000e+00],\n",
       "          [ 9.8111e-01,  1.8892e-02,  0.0000e+00],\n",
       "          [ 9.9652e-01,  3.4764e-03, -1.0000e+00]]),\n",
       "  0: tensor([[9.0986e-01, 9.0139e-02],\n",
       "          [1.0000e+00, 4.4971e-06],\n",
       "          [9.9873e-01, 1.2652e-03],\n",
       "          ...,\n",
       "          [9.9999e-01, 5.3965e-06],\n",
       "          [9.9864e-01, 1.3598e-03],\n",
       "          [9.8111e-01, 1.8892e-02]]),\n",
       "  1: tensor([[9.9877e-01, 1.2274e-03],\n",
       "          [9.9125e-01, 8.7490e-03],\n",
       "          [9.8974e-01, 1.0264e-02],\n",
       "          ...,\n",
       "          [9.9987e-01, 1.3177e-04],\n",
       "          [9.9962e-01, 3.8279e-04],\n",
       "          [9.9197e-01, 8.0287e-03]]),\n",
       "  -1: tensor([[9.9998e-01, 2.2712e-05],\n",
       "          [9.9078e-01, 9.2219e-03],\n",
       "          [9.9992e-01, 8.2656e-05],\n",
       "          ...,\n",
       "          [9.4935e-01, 5.0652e-02],\n",
       "          [9.9986e-01, 1.3855e-04],\n",
       "          [9.9652e-01, 3.4764e-03]])},\n",
       " {0: tensor([-3.8346e-03, -7.7129e+00]),\n",
       "  1: tensor([-7.3655e-03, -7.6676e+00])})"
      ]
     },
     "execution_count": 99,
     "metadata": {},
     "output_type": "execute_result"
    }
   ],
   "source": [
    "classifier.predictions, classifier.log_posterior"
   ]
  },
  {
   "cell_type": "code",
   "execution_count": 97,
   "id": "e868deff",
   "metadata": {},
   "outputs": [
    {
     "data": {
      "image/png": "[encoded data removed]",
      "text/plain": [
       "<Figure size 800x800 with 1 Axes>"
      ]
     },
     "metadata": {},
     "output_type": "display_data"
    }
   ],
   "source": [
    "plot_class_score(predictions=classifier.predictions,\n",
    "                class_labels=config.labels,\n",
    "                reference='flow_midpoint',\n",
    "                workdir=config.workdir+'/results',\n",
    "                figsize=(8,8), \n",
    "                xlim=(-.1,1), \n",
    "                lw=0.9,\n",
    "                density=True,\n",
    "                bins=np.arange(-0.1, 1.03, 0.02),\n",
    "                legend_loc='upper right'\n",
    "                )"
   ]
  },
  {
   "cell_type": "code",
   "execution_count": 7,
   "id": "9451d05d",
   "metadata": {},
   "outputs": [
    {
     "data": {
      "text/plain": [
       "tensor([[9.9993e-01, 6.7004e-05],\n",
       "        [9.9991e-01, 9.0694e-05],\n",
       "        [9.9583e-01, 4.1745e-03],\n",
       "        ...,\n",
       "        [9.9996e-01, 3.9049e-05],\n",
       "        [9.9964e-01, 3.5948e-04],\n",
       "        [9.9998e-01, 2.3035e-05]])"
      ]
     },
     "execution_count": 7,
     "metadata": {},
     "output_type": "execute_result"
    }
   ],
   "source": [
    "classifier.predictions[1]"
   ]
  },
  {
   "cell_type": "code",
   "execution_count": null,
   "id": "a0513ad1",
   "metadata": {},
   "outputs": [],
   "source": [
    "# class JetNetPreprocess:\n",
    "    \n",
    "#     def __init__(self, \n",
    "#                  jet: torch.Tensor=None, \n",
    "#                  method: dict=None, \n",
    "#                  info: tuple=None):\n",
    "        \n",
    "#         self.jet = jet\n",
    "#         self.dim_features = self.jet.shape[-1] - 1\n",
    "#         self.method = method\n",
    "#         self.mean, self.std, self.max, self.min = info\n",
    "#         self.mask = self.jet[:, -1, None]\n",
    "#         self.jet_unmask = self.jet[:, :self.dim_features]\n",
    "\n",
    "\n",
    "#     def standardize(self,  sigma: float=1.0):\n",
    "#         self.jet_unmask = (self.jet_unmask * self.mean) * (1e-8 + sigma / self.std )\n",
    "#         self.jet_unmask = self.jet_unmask * self.mask\n",
    "#         self.jet = torch.cat((self.jet_unmask, self.mask), dim=-1)\n",
    "\n",
    "#     def normalize(self):\n",
    "#         self.jet_unmask = (self.jet_unmask - self.min) / ( self.max - self.min )\n",
    "#         self.jet_unmask = self.jet_unmask * self.mask\n",
    "#         self.jet = torch.cat((self.jet_unmask, self.mask), dim=-1)\n",
    "    \n",
    "#     def logit_tramsform(self, alpha=1e-6):\n",
    "#         self.jet_unmask = self.logit(self.jet_unmask, alpha=alpha)\n",
    "#         self.jet_unmask = self.jet_unmask * self.mask\n",
    "#         self.jet = torch.cat((self.jet_unmask, self.mask), dim=-1)\n",
    "\n",
    "#     def logit(t, alpha=1e-6):\n",
    "#         x = alpha + (1 - 2 * alpha) * t\n",
    "#         return torch.log(x/(1-x))\n",
    "\n",
    "    # def normalize(self, inverse: bool=False):\n",
    "    #     mask = self.particles[:, -1].bool()\n",
    "    #     D = self.dim\n",
    "    #     if not inverse:\n",
    "    #         self.max, _ = torch.max(self.particles[..., :D][mask], dim=0, keepdim=True)\n",
    "    #         self.min, _ = torch.min(self.particles[..., :D][mask], dim=0, keepdim=True)\n",
    "    #         self.particles[..., :D][mask] = (self.particles[..., :D][mask] - self.min) / (self.max - self.min) \n",
    "    #         print('\\t- normalizing data')\n",
    "    #     else:\n",
    "    #         self.particles[..., :D][mask] = self.particles[..., :D][mask] * (self.max - self.min) + self.min * mask \n",
    "    #         print('\\t-: un-normalizing data')\n",
    "\n",
    "    # def preprocess(self, methods: dict={}, name: str='data'):\n",
    "    #     print('INFO: preprocessing {}'.format(name))\n",
    "    #     method_items = list(methods.items())  \n",
    "    #     for method_name, method_kwargs in method_items:\n",
    "    #         method_kwargs['inverse'] = False\n",
    "    #         method = getattr(self, method_name, None)\n",
    "    #         if method and callable(method):\n",
    "    #             method(**method_kwargs)\n",
    "    #         else:\n",
    "    #             print(f\"Method {method_name} not found\")\n",
    "\n",
    "\n",
    "\n",
    "# jet = data[0][0]\n",
    "# info = (torch.Tensor([ 1.8317e-05, -6.5716e-05,  1.5960e-02]), \n",
    "#         torch.Tensor([0.1364, 0.1361, 0.0300]), \n",
    "#         torch.Tensor([-3.1485e+00, -6.8031e-01,  2.0489e-08]), \n",
    "#         torch.Tensor([1.6063, 0.8665, 0.9089]))\n",
    "\n",
    "# print(jet)\n",
    "# jet_prepr = JetPreprocess(jet, info=info)\n",
    "# jet_prepr.standardize(inverse=True, sigma=5.0)\n",
    "# # print(jet_prepr.jet)\n",
    "# jet_prepr.jet"
   ]
  },
  {
   "cell_type": "markdown",
   "id": "f2d57e0a",
   "metadata": {},
   "source": [
    "# Jet images"
   ]
  },
  {
   "cell_type": "markdown",
   "id": "bb801cd8",
   "metadata": {},
   "source": [
    "# Check distribution of particle features"
   ]
  },
  {
   "cell_type": "code",
   "execution_count": null,
   "id": "bd3342d1",
   "metadata": {},
   "outputs": [],
   "source": [
    "\n",
    "# data = JetNetDataLoader(dir_path='data/', \n",
    "#                         data_files=DataConfig.sets,\n",
    "#                         preprocess=None,\n",
    "#                         num_jets=175000,\n",
    "#                         num_constituents=30, \n",
    "#                         clip_neg_pt=True,\n",
    "#                         particle_features=['eta_rel', 'phi_rel', 'pt_rel', 'R', 'e_rel']\n",
    "#                         )\n",
    "\n",
    "# jetnet = JetNetFeatures(data[2])\n",
    "# flowmatch_mp = JetNetFeatures(data[0])\n",
    "# flowmatch_eu = JetNetFeatures(data[1])\n",
    "# diffusion = JetNetFeatures(data[3])\n",
    "\n",
    "# bins = Bins(0,1)\n",
    "# fig, ax = plt.subplots(1, figsize=(5,5))\n",
    "# jetnet.particle_plot(feature='pt_rel', bins=bins, ax=ax) \n",
    "# flowmatch_eu.particle_plot(feature='pt_rel', bins=bins,  fill=False, color='r', ax=ax) \n",
    "# flowmatch_mp.particle_plot(feature='pt_rel', bins=bins,  fill=False, color='purple', ax=ax) \n",
    "# diffusion.particle_plot(feature='pt_rel', bins=bins, fill=False, color='b', ax=ax) \n",
    "\n",
    "# bins = Bins(0,3)\n",
    "# fig, ax = plt.subplots(1, figsize=(5,5))\n",
    "# jetnet.particle_plot(feature='R', bins=bins, ax=ax) \n",
    "# flowmatch_eu.particle_plot(feature='R', bins=bins,  fill=False, color='r', ax=ax) \n",
    "# flowmatch_mp.particle_plot(feature='R', bins=bins,  fill=False, color='purple', ax=ax) \n",
    "# diffusion.particle_plot(feature='R', bins=bins, fill=False, color='b', ax=ax) \n",
    "\n",
    "# bins = Bins(0,0.8)\n",
    "# fig, ax = plt.subplots(1, figsize=(5,5))\n",
    "# jetnet.particle_plot(feature='pt_rel', nth_particle=1, bins=bins, ax=ax) \n",
    "# flowmatch_eu.particle_plot(feature='pt_rel', nth_particle=1, bins=bins,  fill=False, color='r', ax=ax) \n",
    "# flowmatch_mp.particle_plot(feature='pt_rel', nth_particle=1,bins=bins,  fill=False, color='purple', ax=ax) \n",
    "# diffusion.particle_plot(feature='pt_rel', nth_particle=1, bins=bins, fill=False, color='b', ax=ax) \n",
    "# plt.title(r'hardest particles in jet')\n",
    "\n",
    "# bins = Bins(0,0.35)\n",
    "# fig, ax = plt.subplots(1, figsize=(5,5))\n",
    "# jetnet.jet_plot(feature='m_rel', bins=bins, ax=ax) \n",
    "# flowmatch_eu.jet_plot(feature='m_rel', bins=bins,  fill=False, color='r', ax=ax) \n",
    "# flowmatch_mp.jet_plot(feature='m_rel', bins=bins,  fill=False, color='purple', ax=ax) \n",
    "# diffusion.jet_plot(feature='m_rel', bins=bins, fill=False, color='b', ax=ax) \n",
    "\n",
    "# bins = range(30)\n",
    "# fig, ax = plt.subplots(1, figsize=(5,5))\n",
    "# jetnet.jet_plot(feature='multiplicity', bins=bins, ax=ax) \n",
    "# flowmatch_eu.jet_plot(feature='multiplicity', bins=bins,  fill=False, color='r', ax=ax) \n",
    "# flowmatch_mp.jet_plot(feature='multiplicity', bins=bins,  fill=False, color='purple', ax=ax) \n",
    "# diffusion.jet_plot(feature='multiplicity', bins=bins, fill=False, color='b', ax=ax) "
   ]
  },
  {
   "cell_type": "markdown",
   "id": "df99403a",
   "metadata": {},
   "source": [
    "# Preprocess data"
   ]
  },
  {
   "cell_type": "code",
   "execution_count": null,
   "id": "22e66335",
   "metadata": {},
   "outputs": [],
   "source": [
    "# data = JetNetDataLoader(dir_path='data/',  data_files=DataConfig.sets, preprocess=DataConfig.preprocess, num_jets=175000, num_constituents=30,  clip_neg_pt=True, particle_features=['eta_rel', 'phi_rel', 'pt_rel', 'R', 'e_rel'])\n",
    "\n",
    "# jetnet = JetNetFeatures(data[2])\n",
    "# flowmatch_mp = JetNetFeatures(data[0])\n",
    "# flowmatch_eu = JetNetFeatures(data[1])\n",
    "# diffusion = JetNetFeatures(data[3])\n",
    "\n",
    "# bins = Bins(-10,50)\n",
    "# fig, ax = plt.subplots(1, figsize=(5,5))\n",
    "# jetnet.particle_plot(feature='pt_rel', bins=bins, ax=ax) \n",
    "# flowmatch_eu.particle_plot(feature='pt_rel', bins=bins,  fill=False, color='r', ax=ax) \n",
    "# flowmatch_mp.particle_plot(feature='pt_rel', bins=bins,  fill=False, color='purple', ax=ax) \n",
    "# diffusion.particle_plot(feature='pt_rel', bins=bins, fill=False, color='b', ax=ax) \n",
    "\n",
    "# fig, ax = plt.subplots(1, figsize=(5,5))\n",
    "# jetnet.particle_plot(feature='R', bins=bins, ax=ax) \n",
    "# flowmatch_eu.particle_plot(feature='R', bins=bins,  fill=False, color='r', ax=ax) \n",
    "# flowmatch_mp.particle_plot(feature='R', bins=bins,  fill=False, color='purple', ax=ax) \n",
    "# diffusion.particle_plot(feature='R', bins=bins, fill=False, color='b', ax=ax) \n",
    "\n",
    "# fig, ax = plt.subplots(1, figsize=(5,5))\n",
    "# jetnet.particle_plot(feature='pt_rel', nth_particle=1, bins=bins, ax=ax) \n",
    "# flowmatch_eu.particle_plot(feature='pt_rel', nth_particle=1, bins=bins,  fill=False, color='r', ax=ax) \n",
    "# flowmatch_mp.particle_plot(feature='pt_rel', nth_particle=1,bins=bins,  fill=False, color='purple', ax=ax) \n",
    "# diffusion.particle_plot(feature='pt_rel', nth_particle=1, bins=bins, fill=False, color='b', ax=ax) \n",
    "# plt.title(r'hardest particles in jet')\n"
   ]
  },
  {
   "cell_type": "code",
   "execution_count": null,
   "id": "3980c849",
   "metadata": {},
   "outputs": [],
   "source": []
  }
 ],
 "metadata": {
  "kernelspec": {
   "display_name": "Python 3 (ipykernel)",
   "language": "python",
   "name": "python3"
  },
  "language_info": {
   "codemirror_mode": {
    "name": "ipython",
    "version": 3
   },
   "file_extension": ".py",
   "mimetype": "text/x-python",
   "name": "python",
   "nbconvert_exporter": "python",
   "pygments_lexer": "ipython3",
   "version": "3.10.9"
  }
 },
 "nbformat": 4,
 "nbformat_minor": 5
}
