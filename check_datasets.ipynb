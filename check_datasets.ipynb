{
 "cells": [
  {
   "cell_type": "code",
   "execution_count": null,
   "id": "a886627b",
   "metadata": {},
   "outputs": [],
   "source": [
    "import numpy as np\n",
    "import matplotlib.pyplot as plt\n",
    "from src.jetnet import JetNetFeatures\n",
    "\n",
    "\n",
    "def Bins(xmin, xmax, bins=100):\n",
    "    dx = (xmax - xmin) / bins\n",
    "    return np.arange(xmin, xmax, dx)"
   ]
  },
  {
   "cell_type": "code",
   "execution_count": null,
   "id": "8f805cc3",
   "metadata": {},
   "outputs": [],
   "source": [
    "\n",
    "from src.datasets import JetNetDataset\n",
    "from torch.utils.data import DataLoader\n",
    "\n",
    "class DataConfig:\n",
    "\n",
    "    sets : dict = {\n",
    "                   'fm_midpoint' : ('fm_tops150_mp200nfe.h5', 'etaphipt'),\n",
    "                   'fm_euler'    : ('fm_tops150_eu200nfe.h5', 'etaphipt'),\n",
    "                   'diff_ddim'   : ('ddim_200.h5', 'etaphipt_frac'),\n",
    "                   'jetnet'      : ('t150.hdf5', 'particle_features')\n",
    "                   }\n",
    "\n",
    "    labels : dict = {\n",
    "                     'fm_midpoint' : 0,\n",
    "                     'fm_euler'    : 1,\n",
    "                     'diff_ddim'   : 2,\n",
    "                     'jetnet'      : 3\n",
    "                     }\n",
    "\n",
    "\n",
    "config = DataConfig \n",
    "data = JetNetDataset(dir_path='data/', \n",
    "                        data_files=config.sets,\n",
    "                        data_class_labels=config.labels,\n",
    "                        num_jets=10,\n",
    "                        num_constituents=3,\n",
    "                        particle_features=['eta_rel', 'phi_rel', 'pt_rel']\n",
    "                        )\n",
    "\n",
    "data_loader = DataLoader(dataset=data, batch_size=2, shuffle=True, num_workers=4, pin_memory=True)\n",
    "\n",
    "for batch, labels in data_loader: \n",
    "    print(batch.shape, labels.shape)"
   ]
  },
  {
   "cell_type": "markdown",
   "id": "f2d57e0a",
   "metadata": {},
   "source": [
    "# Jet images"
   ]
  },
  {
   "cell_type": "code",
   "execution_count": null,
   "id": "cbf0a353",
   "metadata": {},
   "outputs": [],
   "source": []
  },
  {
   "cell_type": "code",
   "execution_count": 1,
   "id": "b559d9b4",
   "metadata": {},
   "outputs": [
    {
     "ename": "NameError",
     "evalue": "name 'Bins' is not defined",
     "output_type": "error",
     "traceback": [
      "\u001b[0;31m---------------------------------------------------------------------------\u001b[0m",
      "\u001b[0;31mNameError\u001b[0m                                 Traceback (most recent call last)",
      "Cell \u001b[0;32mIn[1], line 1\u001b[0m\n\u001b[0;32m----> 1\u001b[0m bins \u001b[39m=\u001b[39m (Bins(\u001b[39m-\u001b[39m\u001b[39m1\u001b[39m,\u001b[39m1\u001b[39m,\u001b[39m200\u001b[39m), Bins(\u001b[39m-\u001b[39m\u001b[39m1\u001b[39m,\u001b[39m1\u001b[39m,\u001b[39m200\u001b[39m))\n\u001b[1;32m      3\u001b[0m jetnet\u001b[39m.\u001b[39mimage(bins\u001b[39m=\u001b[39mbins) \n\u001b[1;32m      4\u001b[0m flowmatch\u001b[39m.\u001b[39mimage(bins\u001b[39m=\u001b[39mbins)\n",
      "\u001b[0;31mNameError\u001b[0m: name 'Bins' is not defined"
     ]
    }
   ],
   "source": [
    "bins = (Bins(-1,1,200), Bins(-1,1,200))\n",
    "\n",
    "jetnet.image(bins=bins) \n",
    "flowmatch.image(bins=bins)\n",
    "diffusion.image(bins=bins)"
   ]
  },
  {
   "cell_type": "markdown",
   "id": "bb801cd8",
   "metadata": {},
   "source": [
    "# Check distribution of particle features"
   ]
  },
  {
   "cell_type": "code",
   "execution_count": null,
   "id": "bd3342d1",
   "metadata": {},
   "outputs": [],
   "source": [
    "\n",
    "data = JetNetDataLoader(dir_path='data/', \n",
    "                        data_files=DataConfig.sets,\n",
    "                        preprocess=None,\n",
    "                        num_jets=175000,\n",
    "                        num_constituents=30, \n",
    "                        clip_neg_pt=True,\n",
    "                        particle_features=['eta_rel', 'phi_rel', 'pt_rel', 'R', 'e_rel']\n",
    "                        )\n",
    "\n",
    "jetnet = JetNetFeatures(data[2])\n",
    "flowmatch_mp = JetNetFeatures(data[0])\n",
    "flowmatch_eu = JetNetFeatures(data[1])\n",
    "diffusion = JetNetFeatures(data[3])\n",
    "\n",
    "bins = Bins(0,1)\n",
    "fig, ax = plt.subplots(1, figsize=(5,5))\n",
    "jetnet.particle_plot(feature='pt_rel', bins=bins, ax=ax) \n",
    "flowmatch_eu.particle_plot(feature='pt_rel', bins=bins,  fill=False, color='r', ax=ax) \n",
    "flowmatch_mp.particle_plot(feature='pt_rel', bins=bins,  fill=False, color='purple', ax=ax) \n",
    "diffusion.particle_plot(feature='pt_rel', bins=bins, fill=False, color='b', ax=ax) \n",
    "\n",
    "bins = Bins(0,3)\n",
    "fig, ax = plt.subplots(1, figsize=(5,5))\n",
    "jetnet.particle_plot(feature='R', bins=bins, ax=ax) \n",
    "flowmatch_eu.particle_plot(feature='R', bins=bins,  fill=False, color='r', ax=ax) \n",
    "flowmatch_mp.particle_plot(feature='R', bins=bins,  fill=False, color='purple', ax=ax) \n",
    "diffusion.particle_plot(feature='R', bins=bins, fill=False, color='b', ax=ax) \n",
    "\n",
    "bins = Bins(0,0.8)\n",
    "fig, ax = plt.subplots(1, figsize=(5,5))\n",
    "jetnet.particle_plot(feature='pt_rel', nth_particle=1, bins=bins, ax=ax) \n",
    "flowmatch_eu.particle_plot(feature='pt_rel', nth_particle=1, bins=bins,  fill=False, color='r', ax=ax) \n",
    "flowmatch_mp.particle_plot(feature='pt_rel', nth_particle=1,bins=bins,  fill=False, color='purple', ax=ax) \n",
    "diffusion.particle_plot(feature='pt_rel', nth_particle=1, bins=bins, fill=False, color='b', ax=ax) \n",
    "plt.title(r'hardest particles in jet')\n",
    "\n",
    "bins = Bins(0,0.35)\n",
    "fig, ax = plt.subplots(1, figsize=(5,5))\n",
    "jetnet.jet_plot(feature='m_rel', bins=bins, ax=ax) \n",
    "flowmatch_eu.jet_plot(feature='m_rel', bins=bins,  fill=False, color='r', ax=ax) \n",
    "flowmatch_mp.jet_plot(feature='m_rel', bins=bins,  fill=False, color='purple', ax=ax) \n",
    "diffusion.jet_plot(feature='m_rel', bins=bins, fill=False, color='b', ax=ax) \n",
    "\n",
    "bins = range(30)\n",
    "fig, ax = plt.subplots(1, figsize=(5,5))\n",
    "jetnet.jet_plot(feature='multiplicity', bins=bins, ax=ax) \n",
    "flowmatch_eu.jet_plot(feature='multiplicity', bins=bins,  fill=False, color='r', ax=ax) \n",
    "flowmatch_mp.jet_plot(feature='multiplicity', bins=bins,  fill=False, color='purple', ax=ax) \n",
    "diffusion.jet_plot(feature='multiplicity', bins=bins, fill=False, color='b', ax=ax) "
   ]
  },
  {
   "cell_type": "markdown",
   "id": "df99403a",
   "metadata": {},
   "source": [
    "# Preprocess data"
   ]
  },
  {
   "cell_type": "code",
   "execution_count": null,
   "id": "22e66335",
   "metadata": {},
   "outputs": [],
   "source": [
    "data = JetNetDataLoader(dir_path='data/',  data_files=DataConfig.sets, preprocess=DataConfig.preprocess, num_jets=175000, num_constituents=30,  clip_neg_pt=True, particle_features=['eta_rel', 'phi_rel', 'pt_rel', 'R', 'e_rel'])\n",
    "\n",
    "jetnet = JetNetFeatures(data[2])\n",
    "flowmatch_mp = JetNetFeatures(data[0])\n",
    "flowmatch_eu = JetNetFeatures(data[1])\n",
    "diffusion = JetNetFeatures(data[3])\n",
    "\n",
    "bins = Bins(-10,50)\n",
    "fig, ax = plt.subplots(1, figsize=(5,5))\n",
    "jetnet.particle_plot(feature='pt_rel', bins=bins, ax=ax) \n",
    "flowmatch_eu.particle_plot(feature='pt_rel', bins=bins,  fill=False, color='r', ax=ax) \n",
    "flowmatch_mp.particle_plot(feature='pt_rel', bins=bins,  fill=False, color='purple', ax=ax) \n",
    "diffusion.particle_plot(feature='pt_rel', bins=bins, fill=False, color='b', ax=ax) \n",
    "\n",
    "fig, ax = plt.subplots(1, figsize=(5,5))\n",
    "jetnet.particle_plot(feature='R', bins=bins, ax=ax) \n",
    "flowmatch_eu.particle_plot(feature='R', bins=bins,  fill=False, color='r', ax=ax) \n",
    "flowmatch_mp.particle_plot(feature='R', bins=bins,  fill=False, color='purple', ax=ax) \n",
    "diffusion.particle_plot(feature='R', bins=bins, fill=False, color='b', ax=ax) \n",
    "\n",
    "fig, ax = plt.subplots(1, figsize=(5,5))\n",
    "jetnet.particle_plot(feature='pt_rel', nth_particle=1, bins=bins, ax=ax) \n",
    "flowmatch_eu.particle_plot(feature='pt_rel', nth_particle=1, bins=bins,  fill=False, color='r', ax=ax) \n",
    "flowmatch_mp.particle_plot(feature='pt_rel', nth_particle=1,bins=bins,  fill=False, color='purple', ax=ax) \n",
    "diffusion.particle_plot(feature='pt_rel', nth_particle=1, bins=bins, fill=False, color='b', ax=ax) \n",
    "plt.title(r'hardest particles in jet')\n"
   ]
  },
  {
   "cell_type": "code",
   "execution_count": null,
   "id": "3980c849",
   "metadata": {},
   "outputs": [],
   "source": []
  }
 ],
 "metadata": {
  "kernelspec": {
   "display_name": "Python 3 (ipykernel)",
   "language": "python",
   "name": "python3"
  },
  "language_info": {
   "codemirror_mode": {
    "name": "ipython",
    "version": 3
   },
   "file_extension": ".py",
   "mimetype": "text/x-python",
   "name": "python",
   "nbconvert_exporter": "python",
   "pygments_lexer": "ipython3",
   "version": "3.10.9"
  }
 },
 "nbformat": 4,
 "nbformat_minor": 5
}
