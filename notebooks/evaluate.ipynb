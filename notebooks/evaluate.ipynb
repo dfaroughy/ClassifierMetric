{
 "cells": [
  {
   "cell_type": "code",
   "execution_count": 5,
   "metadata": {},
   "outputs": [],
   "source": [
    "import numpy as np\n",
    "\n",
    "from ClassifierMetric.utils.plots import plot_class_score\n",
    "from ClassifierMetric.datamodules.jetnet.datasets import JetNetDataset\n",
    "from ClassifierMetric.datamodules.jetnet.dataloaders import JetNetDataLoader\n",
    "from ClassifierMetric.train.trainer import ModelClassifierTest"
   ]
  },
  {
   "cell_type": "code",
   "execution_count": 12,
   "metadata": {},
   "outputs": [],
   "source": [
    "def evaluate_models(dir, Model, Config, device='cuda:1', tag=None):\n",
    "    model_dir='/home/df630/ClassifierMetric/results/{}'.format(dir)\n",
    "    config = Config.load(path=model_dir + \"/config.json\")\n",
    "    config.workdir = model_dir\n",
    "    config.device = device\n",
    "    config.tag = tag\n",
    "    classifier = Model(model_config=config)\n",
    "    datasets = JetNetDataset(dir_path = '/home/df630/ClassifierMetric/data/', \n",
    "                            datasets = config.datasets,\n",
    "                            class_labels = config.labels,\n",
    "                            max_num_jets = config.max_num_jets,\n",
    "                            max_num_constituents = config.max_num_constituents,\n",
    "                            preprocess = config.preprocess,\n",
    "                            particle_features = config.features,\n",
    "                            remove_negative_pt = True\n",
    "                            ) \n",
    "    dataloader = JetNetDataLoader(datasets=datasets, data_split_fracs=config.data_split_fracs, batch_size=config.batch_size)\n",
    "    classifier = ModelClassifierTest(classifier = classifier, \n",
    "                                    dataloader = dataloader,\n",
    "                                    epochs = config.epochs, \n",
    "                                    lr = config.lr, \n",
    "                                    early_stopping = config.early_stopping,\n",
    "                                    warmup_epochs = config.warmup_epochs,\n",
    "                                    workdir = config.workdir,\n",
    "                                    seed = config.seed)\n",
    "    classifier.load_model(path=config.workdir + '/best_model.pth')\n",
    "    classifier.test(class_labels=config.labels)\n",
    "    return classifier, config\n",
    "\n",
    "\n",
    "import numpy as np\n",
    "import matplotlib.pyplot as plt\n",
    "import seaborn as sns\n",
    "\n",
    "def plot_class_score(predictions: dict=None,\n",
    "                     class_labels: dict=None,\n",
    "                     title: str=None,\n",
    "                     workdir: str=None, \n",
    "                     reference: str=None,\n",
    "                     figsize=(4,4), \n",
    "                     bins=np.arange(-0.03, 1.03, 0.01), \n",
    "                     lw=0.75,\n",
    "                     color=None,\n",
    "                     alpha=0.2,\n",
    "                     xlog=False, \n",
    "                     ylog=True,\n",
    "                     density=False, \n",
    "                     xlim=(0,1),\n",
    "                    legend_loc='upper left',\n",
    "                    legend_fontsize=10,\n",
    "                    legend=None):\n",
    "\n",
    "    ref_label = class_labels[reference]\n",
    "    get_name = {v: k for k, v in class_labels.items()}\n",
    "    fig, ax = plt.subplots(1, figsize=figsize)    \n",
    "    N = int(1e10) if density else predictions[-1].shape[0]\n",
    "    for label, score in predictions.items():\n",
    "        if label == 'datasets': continue\n",
    "        test = True if label == -1 else False\n",
    "        sns.histplot(x=score[:N, ref_label], \n",
    "                     bins=bins, \n",
    "                     element=\"step\", \n",
    "                     log_scale=(xlog, ylog), \n",
    "                     lw = 0 if test else lw, \n",
    "                     ls = '--' if '(uncond)' in legend[label] else '-',\n",
    "                     fill=test, \n",
    "                     color = color[label],\n",
    "                     alpha=alpha if test else 1, \n",
    "                     ax=ax, \n",
    "                     stat='density' if density else 'count',\n",
    "                     label=get_name[label] if legend is None else legend[label]) \n",
    "    plt.xlabel(r'multi-classifier score')\n",
    "    plt.ylabel(r'Normalised Entries')\n",
    "    plt.xlim(xlim)\n",
    "    if title is not None:\n",
    "        plt.title('{}'.format(title), fontsize=12)\n",
    "    plt.legend(loc=legend_loc, fontsize=legend_fontsize, frameon=False)\n",
    "    plt.savefig(workdir+'/classifier_score.png')"
   ]
  },
  {
   "cell_type": "markdown",
   "metadata": {},
   "source": [
    "# ParticleNet classifier: JetNet150"
   ]
  },
  {
   "cell_type": "code",
   "execution_count": 3,
   "metadata": {},
   "outputs": [
    {
     "name": "stdout",
     "output_type": "stream",
     "text": [
      "+----------------------+------------------------------------------------------------------------+\n",
      "| Key                  | Value                                                                  |\n",
      "+----------------------+------------------------------------------------------------------------+\n",
      "| data_name            | tops                                                                   |\n",
      "| features             | ['eta_rel', 'phi_rel', 'pt_rel', 'e_rel', 'R']                         |\n",
      "| preprocess           | ['standardize']                                                        |\n",
      "| datasets             | flow_cond: ['fm_tops150_cond_mp200nfe.h5', 'etaphipt']                 |\n",
      "|                      | diff_cond: ['diff_tops150_cond_midpoint_100_csts.h5', 'etaphipt_frac'] |\n",
      "|                      | flow_uncond: ['fm_tops150_mp200nfe.h5', 'etaphipt']                    |\n",
      "|                      | diff_uncond: ['diff_tops150_midpoint_100_csts.h5', 'etaphipt_frac']    |\n",
      "|                      | gan_uncond: ['gan_tops150_csts.h5', 'etaphipt_frac']                   |\n",
      "|                      | jetnet150: ['t150.hdf5', 'particle_features']                          |\n",
      "| labels               | flow_cond: 0                                                           |\n",
      "|                      | diff_cond: 1                                                           |\n",
      "|                      | flow_uncond: 2                                                         |\n",
      "|                      | diff_uncond: 3                                                         |\n",
      "|                      | gan_uncond: 4                                                          |\n",
      "|                      | jetnet150: -1                                                          |\n",
      "| max_num_jets         |                                                                        |\n",
      "| max_num_constituents | 150                                                                    |\n",
      "| device               | cuda:3                                                                 |\n",
      "| data_split_fracs     | [0.6, 0.1, 0.3]                                                        |\n",
      "| batch_size           | 2048                                                                   |\n",
      "| epochs               | 1000                                                                   |\n",
      "| early_stopping       | 30                                                                     |\n",
      "| warmup_epochs        | 250                                                                    |\n",
      "| lr                   | 0.001                                                                  |\n",
      "| seed                 | 12345                                                                  |\n",
      "| model_name           | ParticleNet                                                            |\n",
      "| dim_input            | 3                                                                      |\n",
      "| dim_output           | 5                                                                      |\n",
      "| dim_hidden           | 256                                                                    |\n",
      "| num_knn              | 8                                                                      |\n",
      "| dim_conv_1           | 32                                                                     |\n",
      "| dim_conv_2           | 64                                                                     |\n",
      "| num_layers_1         | 3                                                                      |\n",
      "| num_layers_2         | 3                                                                      |\n",
      "| dropout              | 0.1                                                                    |\n",
      "+----------------------+------------------------------------------------------------------------+\n",
      "INFO: loading and preprocessing data...\n",
      "\t- model 0: flow_cond  [fm_tops150_cond_mp200nfe.h5, etaphipt]  shape: torch.Size([266920, 150, 6])\n",
      "\t- model 1: diff_cond  [diff_tops150_cond_midpoint_100_csts.h5, etaphipt_frac]  shape: torch.Size([266920, 150, 6])\n",
      "\t- model 2: flow_uncond  [fm_tops150_mp200nfe.h5, etaphipt]  shape: torch.Size([266920, 150, 6])\n",
      "\t- model 3: diff_uncond  [diff_tops150_midpoint_100_csts.h5, etaphipt_frac]  shape: torch.Size([266920, 150, 6])\n",
      "\t- model 4: gan_uncond  [gan_tops150_csts.h5, etaphipt_frac]  shape: torch.Size([266920, 150, 6])\n",
      "\t- test : jetnet150  [t150.hdf5, particle_features]  shape: torch.Size([177945, 150, 6])\n",
      "INFO: building dataloaders...\n",
      "INFO: train/val/test split ratios: 0.6/0.1/0.3\n",
      "INFO: train size: 800760, validation size: 133460, testing sizes: 453764\n"
     ]
    },
    {
     "name": "stderr",
     "output_type": "stream",
     "text": [
      "2023-08-22 06:20:51.446509: I tensorflow/core/platform/cpu_feature_guard.cc:182] This TensorFlow binary is optimized to use available CPU instructions in performance-critical operations.\n",
      "To enable the following instructions: AVX2 AVX512F FMA, in other operations, rebuild TensorFlow with the appropriate compiler flags.\n",
      "2023-08-22 06:20:51.885990: W tensorflow/compiler/tf2tensorrt/utils/py_utils.cc:38] TF-TRT Warning: Could not find TensorRT\n"
     ]
    },
    {
     "data": {
      "application/vnd.jupyter.widget-view+json": {
       "model_id": "a32aa748ef984322bb0e9e240a053f06",
       "version_major": 2,
       "version_minor": 0
      },
      "text/plain": [
       "testing:   0%|          | 0/222 [00:00<?, ?it/s]"
      ]
     },
     "metadata": {},
     "output_type": "display_data"
    }
   ],
   "source": [
    "from ClassifierMetric.models.particlenet import ParticleNet \n",
    "from ClassifierMetric.configs.particlenet_config import ParticleNetConfig\n",
    "\n",
    "classifier_150, config_150 = evaluate_models(dir=\"ParticleNet.tops.150_2023.08.16_02h28__1\", \n",
    "                                            Model=ParticleNet,\n",
    "                                            Config=ParticleNetConfig,\n",
    "                                            device='cuda:0')"
   ]
  },
  {
   "cell_type": "markdown",
   "metadata": {},
   "source": []
  },
  {
   "cell_type": "markdown",
   "metadata": {},
   "source": [
    "### Classifier score plot"
   ]
  },
  {
   "cell_type": "code",
   "execution_count": 17,
   "metadata": {},
   "outputs": [
    {
     "data": {
      "image/png": "[encoded data removed]",
      "text/plain": [
       "<Figure size 400x400 with 1 Axes>"
      ]
     },
     "metadata": {},
     "output_type": "display_data"
    }
   ],
   "source": [
    "legend_150 = {0 : 'EPiC-FM (cond)', \n",
    "              1 : 'EPIC-JeDi (cond)', \n",
    "              2 : 'EPiC-FM (uncond)',\n",
    "              3 : 'EPiC-JeDi (uncond)', \n",
    "              4 : 'EPiC-GAN (uncond)', \n",
    "             -1 : 'MC'} # test data\n",
    "\n",
    "color_150 = {0 : 'darkred', \n",
    "              1 : 'blue', \n",
    "              2 : 'darkred', \n",
    "              3 : 'blue', \n",
    "              4 : 'orange',\n",
    "              -1 : None} # test data\n",
    "\n",
    "\n",
    "plot_class_score(predictions=classifier_150.predictions,\n",
    "                class_labels=config_150.labels,\n",
    "                reference='flow_cond',\n",
    "                figsize=(4,4), \n",
    "                xlim=(0.0,1),\n",
    "                ylog=True,\n",
    "                bins=np.arange(0.0, 1, 0.0125),\n",
    "                workdir=config_150.workdir,\n",
    "                density=True,\n",
    "                color=color_150,\n",
    "                lw=0.6,\n",
    "                legend=legend_150,\n",
    "                legend_fontsize=6,\n",
    "                legend_loc='upper right')"
   ]
  },
  {
   "cell_type": "markdown",
   "metadata": {},
   "source": [
    "### Log posteriors"
   ]
  },
  {
   "cell_type": "code",
   "execution_count": 7,
   "metadata": {},
   "outputs": [
    {
     "data": {
      "text/plain": [
       "{0: tensor(-3.6192),\n",
       " 1: tensor(-6.0636),\n",
       " 2: tensor(-3.6579),\n",
       " 3: tensor(-6.0862),\n",
       " 4: tensor(-6.6726),\n",
       " -1: tensor(-3.7070)}"
      ]
     },
     "execution_count": 7,
     "metadata": {},
     "output_type": "execute_result"
    }
   ],
   "source": [
    "\n",
    "classifier_150.log_posterior"
   ]
  },
  {
   "cell_type": "markdown",
   "metadata": {},
   "source": [
    "# ParticleNet classifier: JetNet30"
   ]
  },
  {
   "cell_type": "code",
   "execution_count": 21,
   "metadata": {},
   "outputs": [
    {
     "name": "stdout",
     "output_type": "stream",
     "text": [
      "+----------------------+-----------------------------------------------------------------------+\n",
      "| Key                  | Value                                                                 |\n",
      "+----------------------+-----------------------------------------------------------------------+\n",
      "| data_name            | tops                                                                  |\n",
      "| features             | ['eta_rel', 'phi_rel', 'pt_rel', 'e_rel', 'R']                        |\n",
      "| preprocess           | ['standardize']                                                       |\n",
      "| datasets             | flow_cond: ['fm_tops30_cond_mp200nfe.h5', 'etaphipt']                 |\n",
      "|                      | diff_cond: ['diff_tops30_cond_midpoint_100_csts.h5', 'etaphipt_frac'] |\n",
      "|                      | pc_diff_cond: ['pc_tops30_em_200_csts.h5', 'etaphipt_frac']           |\n",
      "|                      | flow_uncond: ['fm_tops30_mp200nfe.h5', 'etaphipt']                    |\n",
      "|                      | diff_uncond: ['diff_tops30_midpoint_100_csts.h5', 'etaphipt_frac']    |\n",
      "|                      | gan_uncond: ['gan_tops30_csts.h5', 'etaphipt_frac']                   |\n",
      "|                      | jetnet30: ['t.hdf5', 'particle_features']                             |\n",
      "| labels               | flow_cond: 0                                                          |\n",
      "|                      | diff_cond: 1                                                          |\n",
      "|                      | pc_diff_cond: 2                                                       |\n",
      "|                      | flow_uncond: 3                                                        |\n",
      "|                      | diff_uncond: 4                                                        |\n",
      "|                      | gan_uncond: 5                                                         |\n",
      "|                      | jetnet30: -1                                                          |\n",
      "| max_num_jets         |                                                                       |\n",
      "| max_num_constituents | 30                                                                    |\n",
      "| device               | cuda:0                                                                |\n",
      "| data_split_fracs     | [0.6, 0.1, 0.3]                                                       |\n",
      "| batch_size           | 2048                                                                  |\n",
      "| epochs               | 1000                                                                  |\n",
      "| early_stopping       | 20                                                                    |\n",
      "| warmup_epochs        | 120                                                                   |\n",
      "| lr                   | 0.001                                                                 |\n",
      "| seed                 | 12345                                                                 |\n",
      "| model_name           | ParticleNet                                                           |\n",
      "| dim_input            | 3                                                                     |\n",
      "| dim_output           | 6                                                                     |\n",
      "| dim_hidden           | 256                                                                   |\n",
      "| num_knn              | 8                                                                     |\n",
      "| dim_conv_1           | 32                                                                    |\n",
      "| dim_conv_2           | 64                                                                    |\n",
      "| num_layers_1         | 3                                                                     |\n",
      "| num_layers_2         | 3                                                                     |\n",
      "| dropout              | 0.1                                                                   |\n",
      "+----------------------+-----------------------------------------------------------------------+\n",
      "INFO: loading and preprocessing data...\n",
      "\t- model 0: flow_cond  [fm_tops30_cond_mp200nfe.h5, etaphipt]  shape: torch.Size([266920, 30, 6])\n",
      "\t- model 1: diff_cond  [diff_tops30_cond_midpoint_100_csts.h5, etaphipt_frac]  shape: torch.Size([266920, 30, 6])\n",
      "\t- model 2: pc_diff_cond  [pc_tops30_em_200_csts.h5, etaphipt_frac]  shape: torch.Size([266920, 30, 6])\n",
      "\t- model 3: flow_uncond  [fm_tops30_mp200nfe.h5, etaphipt]  shape: torch.Size([266920, 30, 6])\n",
      "\t- model 4: diff_uncond  [diff_tops30_midpoint_100_csts.h5, etaphipt_frac]  shape: torch.Size([266920, 30, 6])\n",
      "\t- model 5: gan_uncond  [gan_tops30_csts.h5, etaphipt_frac]  shape: torch.Size([266920, 30, 6])\n",
      "\t- test : jetnet30  [t.hdf5, particle_features]  shape: torch.Size([177945, 30, 6])\n",
      "INFO: building dataloaders...\n",
      "INFO: train/val/test split ratios: 0.6/0.1/0.3\n",
      "INFO: train size: 960912, validation size: 160152, testing sizes: 533840\n"
     ]
    },
    {
     "data": {
      "application/vnd.jupyter.widget-view+json": {
       "model_id": "2c101ec814ff42c387b7d5210df50df9",
       "version_major": 2,
       "version_minor": 0
      },
      "text/plain": [
       "testing:   0%|          | 0/261 [00:00<?, ?it/s]"
      ]
     },
     "metadata": {},
     "output_type": "display_data"
    }
   ],
   "source": [
    "from ClassifierMetric.models.particlenet import ParticleNet \n",
    "from ClassifierMetric.configs.particlenet_config import ParticleNetConfig\n",
    "\n",
    "classifier_30, config_30 = evaluate_models(dir=\"ParticleNet.tops.30_2023.08.21_19h13__1\", \n",
    "                                            Model=ParticleNet,\n",
    "                                            Config=ParticleNetConfig,\n",
    "                                            device='cuda:0')"
   ]
  },
  {
   "cell_type": "code",
   "execution_count": 24,
   "metadata": {},
   "outputs": [
    {
     "data": {
      "image/png": "[encoded data removed]",
      "text/plain": [
       "<Figure size 400x400 with 1 Axes>"
      ]
     },
     "metadata": {},
     "output_type": "display_data"
    }
   ],
   "source": [
    "legend_30 = {0 : 'EPiC-FM (cond)', \n",
    "              1 : 'EPIC-JeDi (cond)', \n",
    "              2 : 'PC-JeDi (cond)',\n",
    "              3 : 'EPiC-FM (uncond)',\n",
    "              4 : 'EPiC-JeDi (uncond)', \n",
    "              5 : 'EPiC-GAN (uncond)', \n",
    "             -1 : 'MC'} # test data\n",
    "\n",
    "color_30 = {0 : 'darkred', \n",
    "              1 : 'blue', \n",
    "              2 : 'red', \n",
    "              3 : 'darkred', \n",
    "              4 : 'blue' ,\n",
    "              5: 'orange',\n",
    "              -1 : None} # test data\n",
    "\n",
    "\n",
    "plot_class_score(predictions=classifier_30.predictions,\n",
    "                class_labels=config_30.labels,\n",
    "                reference='flow_cond',\n",
    "                figsize=(4,4), \n",
    "                xlim=(0.0, 0.75),\n",
    "                ylog=True,\n",
    "                bins=np.arange(0.0, 0.75, 0.0125),\n",
    "                workdir=config_30.workdir,\n",
    "                density=True,\n",
    "                color=color_30,\n",
    "                lw=0.6,\n",
    "                legend=legend_30,\n",
    "                legend_fontsize=5.5,\n",
    "                legend_loc='upper right')"
   ]
  },
  {
   "cell_type": "code",
   "execution_count": 5,
   "metadata": {},
   "outputs": [
    {
     "data": {
      "text/plain": [
       "{0: tensor(-2.4917),\n",
       " 1: tensor(-3.6780),\n",
       " 2: tensor(-4.0048),\n",
       " 3: tensor(-2.4928),\n",
       " 4: tensor(-3.7579),\n",
       " 5: tensor(-3.4482),\n",
       " -1: tensor(-2.5281)}"
      ]
     },
     "execution_count": 5,
     "metadata": {},
     "output_type": "execute_result"
    }
   ],
   "source": [
    "classifier_30.log_posterior"
   ]
  }
 ],
 "metadata": {
  "kernelspec": {
   "display_name": "Python 3",
   "language": "python",
   "name": "python3"
  },
  "language_info": {
   "codemirror_mode": {
    "name": "ipython",
    "version": 3
   },
   "file_extension": ".py",
   "mimetype": "text/x-python",
   "name": "python",
   "nbconvert_exporter": "python",
   "pygments_lexer": "ipython3",
   "version": "3.9.16"
  },
  "orig_nbformat": 4
 },
 "nbformat": 4,
 "nbformat_minor": 2
}
